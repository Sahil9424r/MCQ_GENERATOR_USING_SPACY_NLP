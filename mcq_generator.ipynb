{
  "nbformat": 4,
  "nbformat_minor": 0,
  "metadata": {
    "colab": {
      "provenance": [],
      "authorship_tag": "ABX9TyPWMTkaR+IKSBVS0i/CGpMI",
      "include_colab_link": true
    },
    "kernelspec": {
      "name": "python3",
      "display_name": "Python 3"
    },
    "language_info": {
      "name": "python"
    }
  },
  "cells": [
    {
      "cell_type": "markdown",
      "metadata": {
        "id": "view-in-github",
        "colab_type": "text"
      },
      "source": [
        "<a href=\"https://colab.research.google.com/github/Sahil9424r/MCQ_GENERATOR_USING_SPACY_NLP/blob/main/mcq_generator.ipynb\" target=\"_parent\"><img src=\"https://colab.research.google.com/assets/colab-badge.svg\" alt=\"Open In Colab\"/></a>"
      ]
    },
    {
      "cell_type": "code",
      "execution_count": 148,
      "metadata": {
        "id": "KYtxKV5lSLtV"
      },
      "outputs": [],
      "source": [
        "import spacy\n",
        "import random\n",
        "from collections import Counter"
      ]
    },
    {
      "cell_type": "code",
      "source": [
        "text = \"\"\"\n",
        "The Greek historian knew what he was talking about. The Nile River fed Egyptian civilization for hundreds of years.\n",
        "The Longest River the Nile is 4,160 miles long—the world’s longest river. It begins near the equator in Africa and\n",
        "flows north to the Mediterranean Sea. In the south the Nile churns with cataracts. A cataract is a waterfall. Near the\n",
        "sea the Nile branches into a delta. A delta is an area near a river’s mouth where the water deposits fine soil called silt.\n",
        "In the delta, the Nile divides into many streams. The river is called the upper Nile in the south and the lower Nile in the\n",
        "north. For centuries, heavy rains in Ethiopia caused the Nile to flood every summer. The floods deposited rich soil along the\n",
        "Nile’s shores. This soil was fertile, which means it was good for growing crops. Unlike the Tigris and Euphrates,\n",
        "the Nile River flooded at the same time every year, so farmers could predict when to plant their crops.\n",
        "\"\"\"\n",
        "\n",
        "num_questions = 5"
      ],
      "metadata": {
        "id": "kqMvV42DSNGV"
      },
      "execution_count": 149,
      "outputs": []
    },
    {
      "cell_type": "code",
      "source": [
        "nlp = spacy.load('en_core_web_sm')\n",
        "doc = nlp(text)\n",
        "sentences = [sent.text for sent in doc.sents]\n",
        "# geenerate random sentecne having  count of min(num_questions, len(sentences))\n",
        "# so sentence generated will be 5 ,not more than thar\n",
        "selected_sentences = random.sample(sentences, min(num_questions, len(sentences)))"
      ],
      "metadata": {
        "id": "JAwQvZEbSqfU"
      },
      "execution_count": 150,
      "outputs": []
    },
    {
      "cell_type": "code",
      "source": [
        "[sent.text for sent in doc.sents]"
      ],
      "metadata": {
        "colab": {
          "base_uri": "https://localhost:8080/"
        },
        "id": "pBGc8Rz4SsjG",
        "outputId": "ae3e0214-6401-4921-d895-52c32429ea8e"
      },
      "execution_count": 151,
      "outputs": [
        {
          "output_type": "execute_result",
          "data": {
            "text/plain": [
              "['\\nThe Greek historian knew what he was talking about.',\n",
              " 'The Nile River fed Egyptian civilization for hundreds of years. \\n',\n",
              " 'The Longest River the Nile is 4,160 miles long—the world’s longest river.',\n",
              " 'It begins near the equator in Africa and \\nflows north to the Mediterranean Sea.',\n",
              " 'In the south the Nile churns with cataracts.',\n",
              " 'A cataract is a waterfall.',\n",
              " 'Near the \\nsea the Nile branches into a delta.',\n",
              " 'A delta is an area near a river’s mouth where the water deposits fine soil called silt. \\n',\n",
              " 'In the delta, the Nile divides into many streams.',\n",
              " 'The river is called the upper Nile in the south and the lower Nile in the\\nnorth.',\n",
              " 'For centuries, heavy rains in Ethiopia caused the Nile to flood every summer.',\n",
              " 'The floods deposited rich soil along the \\nNile’s shores.',\n",
              " 'This soil was fertile, which means it was good for growing crops.',\n",
              " 'Unlike the Tigris and Euphrates,\\nthe Nile River flooded at the same time every year, so farmers could predict when to plant their crops.\\n']"
            ]
          },
          "metadata": {},
          "execution_count": 151
        }
      ]
    },
    {
      "cell_type": "code",
      "source": [
        "selected_sentences"
      ],
      "metadata": {
        "colab": {
          "base_uri": "https://localhost:8080/"
        },
        "id": "wxch37pZTSFa",
        "outputId": "b4cefc7e-f603-4fa1-a5e0-a5a217be46fc"
      },
      "execution_count": 152,
      "outputs": [
        {
          "output_type": "execute_result",
          "data": {
            "text/plain": [
              "['For centuries, heavy rains in Ethiopia caused the Nile to flood every summer.',\n",
              " 'The Nile River fed Egyptian civilization for hundreds of years. \\n',\n",
              " 'In the delta, the Nile divides into many streams.',\n",
              " 'A cataract is a waterfall.',\n",
              " 'A delta is an area near a river’s mouth where the water deposits fine soil called silt. \\n']"
            ]
          },
          "metadata": {},
          "execution_count": 152
        }
      ]
    },
    {
      "cell_type": "code",
      "source": [],
      "metadata": {
        "id": "a1P99ykFThZD"
      },
      "execution_count": 152,
      "outputs": []
    },
    {
      "cell_type": "code",
      "source": [
        "import random\n",
        "import string\n",
        "import spacy\n",
        "from spacy.lang.en.stop_words import STOP_WORDS\n",
        "\n",
        "# Load spaCy model\n",
        "nlp = spacy.load('en_core_web_sm')\n",
        "\n",
        "def clean_text(text):\n",
        "    \"\"\"Clean the text by removing punctuation and spaces.\"\"\"\n",
        "    return text.translate(str.maketrans('', '', string.punctuation)).replace(\" \", \"\")\n",
        "\n",
        "# Function to generate MCQ for a sentence\n",
        "def generate_and_print_mcqs(text, num_questions):\n",
        "    # Tokenize the text into sentences\n",
        "    doc = nlp(text)\n",
        "    sentences = [sent.text for sent in doc.sents]\n",
        "    # print(len(sentences))\n",
        "\n",
        "    # Check if there are enough sentences for the requested number of questions\n",
        "    if len(sentences) < num_questions:\n",
        "        print(f\"Warning: The text contains only {len(sentences)} sentences, but {num_questions} questions were requested.\")\n",
        "        print(\"So i will generate less number of question\")\n",
        "        choice= input(\"Enter Yes to generate and No to not generate \").lower()\n",
        "        if choice==\"no\":\n",
        "\n",
        "          print(\"Try next time:\")\n",
        "          return\n",
        "\n",
        "    # Generate MCQs for the selected sentences\n",
        "    def generate_mcq(sentence):\n",
        "        # Tokenize the sentence using spaCy\n",
        "        doc = nlp(sentence)\n",
        "\n",
        "        # Extract keywords (NOUN, VERB, PROPN, ADJ)\n",
        "        keywords = [token.text for token in doc if token.pos_ in ('NOUN', 'VERB', 'PROPN', 'ADJ')]\n",
        "\n",
        "        # Fallback if no keywords found: filter out stop words and non-alphabetical words\n",
        "        if not keywords:\n",
        "            keywords = [word for word in sentence.split() if word.lower() not in STOP_WORDS and word.isalpha()]\n",
        "\n",
        "        # Pick a random keyword as the correct answer\n",
        "        correct_answer = random.choice(keywords)\n",
        "\n",
        "        # Create a list of unique words for distractors, excluding the correct answer and unwanted characters\n",
        "        unique_words = [token.text for token in nlp(sentence)\n",
        "                        if token.text != correct_answer\n",
        "                        and token.text not in [',', '.', \"'\", \" \", \"\\n\", \"\\t\",\"(\",\")\",\"()\",\"{}\",\"[]\",\"[\",\"]\",\"{\",\"}\"]]\n",
        "\n",
        "        # Sample 3 unique words for distractors\n",
        "        distractors = random.sample(unique_words, 3)\n",
        "\n",
        "        # Shuffle the options to randomize the order\n",
        "        options = distractors + [correct_answer]\n",
        "        random.shuffle(options)\n",
        "\n",
        "        # Return the MCQ data\n",
        "        return {\n",
        "            \"question\": sentence.replace(correct_answer, \"______\", 1),  # Replace only the first occurrence\n",
        "            \"options\": options,\n",
        "            \"answer\": correct_answer,\n",
        "            \"answer_option\": options.index(correct_answer) + 1  # Identify the correct option (1-based index)\n",
        "        }\n",
        "\n",
        "    # Select a subset of sentences based on num_questions\n",
        "    selected_sentences = random.sample(sentences, min(num_questions, len(sentences)))\n",
        "\n",
        "    # Loop through sentences and generate questions\n",
        "    mcqs = [generate_mcq(sentence) for sentence in selected_sentences]\n",
        "\n",
        "    # Print out the MCQs with options\n",
        "    for i, mcq in enumerate(mcqs):\n",
        "        print(f\"Q{i+1}: {mcq['question']}\")\n",
        "        for idx, option in enumerate(mcq['options'], 1):\n",
        "            print(f\"   {idx}. {option}\")\n",
        "        print(f\"Answer: {mcq['answer']}\\n\")\n",
        "\n",
        "        # print(f\"Answer: Option {mcq['answer_option']} - {mcq['options'][mcq['answer_option'] - 1]}\\n\")\n",
        "\n",
        "# Take text input from the user\n",
        "# text = input(\"Enter a text: \")\n",
        "\n",
        "# Example text for testing\n",
        "# text = \"The quick brown fox jumps over the lazy dog. Python is a powerful programming language.\"\n",
        "\n",
        "# Call the function to generate and print MCQs based on the input text\n",
        "generate_and_print_mcqs(text, 5)\n"
      ],
      "metadata": {
        "colab": {
          "base_uri": "https://localhost:8080/"
        },
        "collapsed": true,
        "id": "BH-RnGbFU1HW",
        "outputId": "2cec5b4d-4c96-41d4-ebcc-bf2c191e4419"
      },
      "execution_count": 164,
      "outputs": [
        {
          "output_type": "stream",
          "name": "stdout",
          "text": [
            "Q1: Near the \n",
            "sea the Nile branches into a ______.\n",
            "   1. branches\n",
            "   2. sea\n",
            "   3. the\n",
            "   4. delta\n",
            "Answer: delta\n",
            "\n",
            "Q2: A delta is an area near a river’s mouth where the water deposits fine ______ called silt. \n",
            "\n",
            "   1. ’s\n",
            "   2. soil\n",
            "   3. where\n",
            "   4. the\n",
            "Answer: soil\n",
            "\n",
            "Q3: For centuries, heavy rains in Ethiopia caused the Nile to flood every ______.\n",
            "   1. flood\n",
            "   2. every\n",
            "   3. summer\n",
            "   4. the\n",
            "Answer: summer\n",
            "\n",
            "Q4: In the delta, the ______ divides into many streams.\n",
            "   1. Nile\n",
            "   2. into\n",
            "   3. many\n",
            "   4. the\n",
            "Answer: Nile\n",
            "\n",
            "Q5: It begins near the equator in Africa and \n",
            "flows north to the Mediterranean ______.\n",
            "   1. and\n",
            "   2. Sea\n",
            "   3. flows\n",
            "   4. north\n",
            "Answer: Sea\n",
            "\n"
          ]
        }
      ]
    },
    {
      "cell_type": "code",
      "source": [
        "# t=\"Supervised learning is a powerful branch of machine learning that revolves around learning a class from examples provided during training. \"\n",
        "t= \"\"\"\n",
        "Artificial intelligence (AI) is revolutionizing various industries by enabling machines to perform tasks that typically require human intelligence. One area where AI is making significant strides is in natural language processing (NLP), allowing computers to understand and generate human language. NLP applications range from virtual assistants like Siri and Alexa to sentiment analysis in social media.\n",
        "\n",
        "Another emerging technology is blockchain, a decentralized digital ledger that securely records transactions across a network of computers. Blockchain is best known as the technology behind cryptocurrencies like Bitcoin, but its potential extends far beyond digital currencies. It has applications in supply chain management, healthcare, and voting systems, among others.\n",
        "\n",
        "The Internet of Things (IoT) refers to the network of interconnected devices embedded with sensors, software, and other technologies, enabling them to collect and exchange data. IoT devices can include everyday objects like smart thermostats, wearable fitness trackers, and industrial machinery. The data generated by IoT devices can be analyzed to improve efficiency, monitor performance, and enhance user experience.\n",
        "\n",
        "Virtual reality (VR) and augmented reality (AR) are immersive technologies that blend the physical and digital worlds. VR creates a fully immersive simulated environment, while AR overlays digital content onto the real world. These technologies have applications in gaming, education, healthcare, and training, offering new ways to interact with digital content and experiences.\n",
        "\n",
        "Cybersecurity is a critical concern in today's digital age, with cyberattacks becoming increasingly sophisticated and widespread. Organizations must employ robust security measures to protect their data, networks, and systems from unauthorized access, malware, and other cyber threats. This includes encryption, firewalls, intrusion detection systems, and regular security audits.\n",
        "\n",
        "Quantum computing is an emerging field that leverages the principles of quantum mechanics to perform calculations at speeds far beyond traditional computers. Unlike classical bits, which can only exist in one state (0 or 1), quantum bits (qubits) can exist in multiple states simultaneously, allowing for parallel processing and exponential computational power. Quantum computing has the potential to revolutionize fields such as cryptography, optimization, and drug discovery.\n",
        "\"\"\"\n",
        "generate_and_print_mcqs(t, 5)"
      ],
      "metadata": {
        "colab": {
          "base_uri": "https://localhost:8080/"
        },
        "id": "bEz0D2BLWp2f",
        "outputId": "3253fb33-872b-4611-fd86-f0c846d3b2f9"
      },
      "execution_count": 166,
      "outputs": [
        {
          "output_type": "stream",
          "name": "stdout",
          "text": [
            "Q1: VR creates a fully immersive simulated environment, while AR overlays digital ______ onto the real world.\n",
            "   1. content\n",
            "   2. digital\n",
            "   3. world\n",
            "   4. environment\n",
            "Answer: content\n",
            "\n",
            "Q2: Cybersecurity is a ______ concern in today's digital age, with cyberattacks becoming increasingly sophisticated and widespread.\n",
            "   1. concern\n",
            "   2. in\n",
            "   3. critical\n",
            "   4. age\n",
            "Answer: critical\n",
            "\n",
            "Q3: These technologies have applications in gaming, education, healthcare, and training, offering new ______ to interact with digital content and experiences.\n",
            "\n",
            "\n",
            "   1. and\n",
            "   2. content\n",
            "   3. in\n",
            "   4. ways\n",
            "Answer: ways\n",
            "\n",
            "Q4: NLP ______ range from virtual assistants like Siri and Alexa to sentiment analysis in social media.\n",
            "\n",
            "\n",
            "   1. analysis\n",
            "   2. social\n",
            "   3. applications\n",
            "   4. Alexa\n",
            "Answer: applications\n",
            "\n",
            "Q5: Another emerging technology is ______, a decentralized digital ledger that securely records transactions across a network of computers.\n",
            "   1. computers\n",
            "   2. blockchain\n",
            "   3. is\n",
            "   4. securely\n",
            "Answer: blockchain\n",
            "\n"
          ]
        }
      ]
    },
    {
      "cell_type": "code",
      "source": [],
      "metadata": {
        "id": "1uZklNT3hQM6"
      },
      "execution_count": 154,
      "outputs": []
    }
  ]
}